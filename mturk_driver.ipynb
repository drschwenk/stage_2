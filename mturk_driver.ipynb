{
 "cells": [
  {
   "cell_type": "markdown",
   "metadata": {
    "heading_collapsed": true
   },
   "source": [
    "# Table of Contents\n",
    "* [Setup](#Setup)\n",
    "\t* [estimate cost](#estimate-cost)\n",
    "\t* [load dataset](#load-dataset)\n",
    "* [Submitting HITs](#Submitting-HITs)\n",
    "* [Retrieve results](#Retrieve-results)\n",
    "* [Interact with workers](#Interact-with-workers)\n",
    "* [Accepting and deleting HITs... careful with these](#Accepting-and-deleting-HITs...-careful-with-these)\n"
   ]
  },
  {
   "cell_type": "code",
   "execution_count": 1,
   "metadata": {
    "collapsed": true,
    "hidden": true,
    "run_control": {
     "frozen": false,
     "read_only": false
    }
   },
   "outputs": [],
   "source": [
    "%%capture\n",
    "from __future__ import division\n",
    "import numpy as np\n",
    "import pandas as pd\n",
    "import scipy.stats as st\n",
    "import itertools\n",
    "import math\n",
    "from collections import Counter, defaultdict\n",
    "%load_ext autoreload\n",
    "%autoreload 2\n",
    "\n",
    "\n",
    "import matplotlib as mpl\n",
    "mpl.use(\"Agg\")\n",
    "import matplotlib.pylab as plt\n",
    "%matplotlib inline\n",
    "%load_ext base16_mplrc\n",
    "%base16_mplrc dark solarized\n",
    "plt.rcParams['grid.linewidth'] = 0\n",
    "plt.rcParams['figure.figsize'] = (16.0, 10.0)\n",
    "\n",
    "\n",
    "import re\n",
    "import pickle\n",
    "import boto\n",
    "from copy import deepcopy\n",
    "import json\n",
    "import os\n",
    "import jinja2\n",
    "import random\n",
    "from tqdm import tqdm\n",
    "\n",
    "from IPython.core.display import HTML\n",
    "\n",
    "from boto.mturk.qualification import PercentAssignmentsApprovedRequirement, Qualifications, Requirement\n",
    "\n",
    "from keysTkingdom import mturk_ai2\n",
    "from keysTkingdom import aws_tokes\n",
    "from keysTkingdom import mturk_aristo\n",
    "\n",
    "\n",
    "from amt_utils.mturk import MTurk\n",
    "from amt_utils.mturk import pickle_this, unpickle_this"
   ]
  },
  {
   "cell_type": "markdown",
   "metadata": {},
   "source": [
    "# Setup - Stage 2"
   ]
  },
  {
   "cell_type": "markdown",
   "metadata": {
    "heading_collapsed": true
   },
   "source": [
    "## estimate cost"
   ]
  },
  {
   "cell_type": "code",
   "execution_count": 576,
   "metadata": {
    "hidden": true,
    "run_control": {
     "frozen": false,
     "read_only": false
    }
   },
   "outputs": [
    {
     "name": "stdout",
     "output_type": "stream",
     "text": [
      "24.0 - $6277.56\n",
      "4331.5164\n",
      "10609.0764\n",
      "(10609.076399999998, 6277.5599999999995, 3766.5359999999996, 2615.65)\n",
      "23268.8224\n"
     ]
    }
   ],
   "source": [
    "cost_per_hit = 0.04\n",
    "n_turkers_per_hit = 3\n",
    "n_hits_per_video = 1\n",
    "\n",
    "simpler_cost_per_hit = 0.02\n",
    "\n",
    "n_videos_low = 200\n",
    "n_videos_high = 52313\n",
    "# n_videos_high = 20000\n",
    "\n",
    "low = cost_per_hit * n_turkers_per_hit * n_videos_low * n_hits_per_video\n",
    "high = cost_per_hit * n_turkers_per_hit * n_videos_high * n_hits_per_video\n",
    "subtask = simpler_cost_per_hit* n_turkers_per_hit * n_videos_high * n_hits_per_video * 1.38\n",
    "\n",
    "stage_2 = 0.04 * n_turkers_per_hit * n_videos_high\n",
    "\n",
    "stage_3 = 0.04 * n_turkers_per_hit * n_videos_high * 0.10 +  simpler_cost_per_hit * n_turkers_per_hit * n_videos_high\n",
    "\n",
    "stage_4 = 0.05 * 1 * n_videos_high\n",
    "\n",
    "stage_1 = high + subtask\n",
    "\n",
    "print(str(low) + ' - $' + str(high))\n",
    "print(subtask)\n",
    "print(high + subtask)\n",
    "print(stage_1, stage_2, stage_3, stage_4)\n",
    "print(stage_1 + stage_2 + stage_3 + stage_4)"
   ]
  },
  {
   "cell_type": "markdown",
   "metadata": {
    "heading_collapsed": true
   },
   "source": [
    "## load dataset"
   ]
  },
  {
   "cell_type": "code",
   "execution_count": 75,
   "metadata": {
    "collapsed": true,
    "hidden": true,
    "run_control": {
     "frozen": false,
     "read_only": false
    }
   },
   "outputs": [],
   "source": [
    "s3_base_path = 'https://s3-us-west-2.amazonaws.com/ai2-vision-animation-gan/annotation_data/subtask_frames/'\n",
    "\n",
    "s3_base_path_stills = 'https://s3-us-west-2.amazonaws.com/ai2-vision-animation-gan/annotation_data/still_frames/'\n",
    "\n",
    "s3_base_path_gifs = 'https://s3-us-west-2.amazonaws.com/ai2-vision-animation-gan/annotation_data/scene_gifs/s_03_e_22/'\n",
    "\n",
    "s3_base_paths = {\n",
    "    'subtask': s3_base_path,\n",
    "    'stills': s3_base_path_stills,\n",
    "    'gifs': s3_base_path_gifs\n",
    "}\n",
    "\n",
    "data_file_path = '../../build_dataset/stage1_single_char_ds_v1.pkl'\n",
    "\n",
    "ds_stage_1 = unpickle_this(data_file_path)\n",
    "all_stills_to_annotate = []\n",
    "\n",
    "# for clip in ds_skeleton:\n",
    "#     for still in clip['keyFrames']:\n",
    "#         all_stills_to_annotate.append(still)\n",
    "# len(all_stills_to_annotate)"
   ]
  },
  {
   "cell_type": "code",
   "execution_count": 3,
   "metadata": {
    "hidden": true,
    "run_control": {
     "frozen": false,
     "read_only": false
    }
   },
   "outputs": [
    {
     "data": {
      "text/plain": [
       "8193"
      ]
     },
     "execution_count": 3,
     "metadata": {},
     "output_type": "execute_result"
    }
   ],
   "source": [
    "len(ds_stage_1)"
   ]
  },
  {
   "cell_type": "code",
   "execution_count": 469,
   "metadata": {
    "collapsed": true,
    "hidden": true,
    "run_control": {
     "frozen": false,
     "read_only": false
    }
   },
   "outputs": [],
   "source": [
    "all_prod_aids = [aid[:-7] for aid in all_stills_to_annotate]"
   ]
  },
  {
   "cell_type": "code",
   "execution_count": 473,
   "metadata": {
    "collapsed": true,
    "hidden": true,
    "run_control": {
     "frozen": false,
     "read_only": false
    }
   },
   "outputs": [],
   "source": [
    "# with open('complete_clips.txt', 'r') as f:\n",
    "#     clips_completed_raw = f.read()\n",
    "\n",
    "# clips_completed = set(clips_completed_raw.split())"
   ]
  },
  {
   "cell_type": "markdown",
   "metadata": {},
   "source": [
    "# Submitting HITs"
   ]
  },
  {
   "cell_type": "code",
   "execution_count": 58,
   "metadata": {
    "code_folding": [],
    "collapsed": true,
    "run_control": {
     "frozen": false,
     "read_only": false
    }
   },
   "outputs": [],
   "source": [
    "from amt_utils.flintstones import prepare_stage_2_hit\n",
    "from amt_utils.flintstones import prepare_stage_2b_hit\n",
    "\n",
    "from amt_utils.flintstones import generate_simpler_task_page\n",
    "from amt_utils.flintstones import write_task_page\n",
    "\n",
    "from amt_utils.mturk import expected_cost"
   ]
  },
  {
   "cell_type": "code",
   "execution_count": 4,
   "metadata": {
    "run_control": {
     "frozen": false,
     "read_only": false
    }
   },
   "outputs": [
    {
     "data": {
      "text/plain": [
       "$10,000.00"
      ]
     },
     "execution_count": 4,
     "metadata": {},
     "output_type": "execute_result"
    }
   ],
   "source": [
    "turk_account = mturk_ai2\n",
    "rw_host='mechanicalturk.amazonaws.com'\n",
    "# amt_con = MTurk(turk_account.access_key, turk_account.access_secret_key, host=rw_host)\n",
    "amt_con = MTurk(turk_account.access_key, turk_account.access_secret_key)\n",
    "amt_con.get_account_balance()"
   ]
  },
  {
   "cell_type": "code",
   "execution_count": 101,
   "metadata": {
    "code_folding": [],
    "collapsed": true,
    "run_control": {
     "frozen": false,
     "read_only": false
    }
   },
   "outputs": [],
   "source": [
    "static_params = {\n",
    "    'title': \"Describe a character in an animation frame\",\n",
    "    'description': \"Describe the pose and location of a character from drop down menus and a text entry box\",\n",
    "    'keywords': ['animation', 'image', 'image annotation'],\n",
    "    'frame_height': 1000,\n",
    "    'amount': 0.01,\n",
    "    'duration': 3600 * 1,\n",
    "    'lifetime': 3600 * 24 * 2,\n",
    "    'max_assignments': 3,\n",
    "}"
   ]
  },
  {
   "cell_type": "code",
   "execution_count": 180,
   "metadata": {
    "collapsed": true
   },
   "outputs": [],
   "source": [
    "# settings = ['kitchen', 'bedroom', 'living room', 'dining room', 'quarry', 'garden', 'in car']\n",
    "poses = ['Select Pose', 'standing', 'sitting', 'walking', 'laying', 'leaning', 'riding', 'crouching']\n",
    "position_prepositions = ['Select Position', 'next to', 'in front of', 'on', 'in', 'to the left of', 'to the right of', 'behind', 'under']"
   ]
  },
  {
   "cell_type": "code",
   "execution_count": 78,
   "metadata": {
    "collapsed": true,
    "run_control": {
     "frozen": false,
     "read_only": false
    }
   },
   "outputs": [],
   "source": [
    "current_batch = ds_stage_1[5:6]"
   ]
  },
  {
   "cell_type": "code",
   "execution_count": 130,
   "metadata": {},
   "outputs": [],
   "source": [
    "s3_batch = [vid for vid in ds_stage_1 if 's_03_e_22' in vid['globalID']]"
   ]
  },
  {
   "cell_type": "code",
   "execution_count": 182,
   "metadata": {},
   "outputs": [],
   "source": [
    "# build_hit_group = [prepare_stage_2_hit(s3_base_paths, vid_ann, poses, position_prepositions, static_params) for vid_ann in tqdm(current_batch)]\n",
    "# write_task_page(build_hit_group[0]['html'][0])"
   ]
  },
  {
   "cell_type": "code",
   "execution_count": 184,
   "metadata": {
    "run_control": {
     "frozen": false,
     "read_only": false
    }
   },
   "outputs": [
    {
     "data": {
      "text/plain": [
       "0.03"
      ]
     },
     "execution_count": 184,
     "metadata": {},
     "output_type": "execute_result"
    }
   ],
   "source": [
    "expected_cost(build_hit_group, static_params, amt_con)"
   ]
  },
  {
   "cell_type": "code",
   "execution_count": 198,
   "metadata": {},
   "outputs": [
    {
     "name": "stderr",
     "output_type": "stream",
     "text": [
      "\n",
      "\n",
      "  0%|          | 0/1 [00:00<?, ?it/s]\u001b[A\u001b[A\n",
      "\n",
      "100%|██████████| 1/1 [00:00<00:00, 104.20it/s]\u001b[A\u001b[A"
     ]
    }
   ],
   "source": [
    "build_hit_group = []\n",
    "for vid_ann in tqdm(current_batch):\n",
    "    build_hit_group.extend(prepare_stage_2_hit(s3_base_paths, vid_ann, poses, position_prepositions, static_params))\n",
    "write_task_page(build_hit_group[0]['html'])"
   ]
  },
  {
   "cell_type": "code",
   "execution_count": null,
   "metadata": {
    "collapsed": true
   },
   "outputs": [],
   "source": []
  },
  {
   "cell_type": "code",
   "execution_count": null,
   "metadata": {
    "collapsed": true
   },
   "outputs": [],
   "source": []
  },
  {
   "cell_type": "code",
   "execution_count": 186,
   "metadata": {
    "run_control": {
     "frozen": false,
     "read_only": false
    }
   },
   "outputs": [],
   "source": [
    "# build_hit_group = [prepare_stage_2_hit(s3_base_paths, vid_ann, poses, position_prepositions, static_params) for ]\n",
    "# write_task_page(build_hit_group[0]['html'][0])"
   ]
  },
  {
   "cell_type": "markdown",
   "metadata": {},
   "source": [
    "**Procedure**\n",
    "\n",
    "1. assure interface template is working\n",
    "\n",
    "2. build and load ds skeleton for the sample to be submitted\n",
    "\n",
    "3. make sure to sync images to s3\n",
    "\n",
    "4. double check static params and host\n",
    "\n",
    "5. build and submit"
   ]
  },
  {
   "cell_type": "code",
   "execution_count": 187,
   "metadata": {
    "run_control": {
     "frozen": false,
     "read_only": false
    },
    "scrolled": true
   },
   "outputs": [
    {
     "name": "stderr",
     "output_type": "stream",
     "text": [
      "\n",
      "\n",
      "  0%|          | 0/1 [00:00<?, ?it/s]\u001b[A\u001b[A\n",
      "\n",
      "100%|██████████| 1/1 [00:00<00:00,  3.21it/s]\u001b[A\u001b[A\n",
      "\n",
      "\u001b[A\u001b[A"
     ]
    }
   ],
   "source": [
    "hit_group = [amt_con.create_html_hit(single_hit) for single_hit in tqdm(build_hit_group)]"
   ]
  },
  {
   "cell_type": "markdown",
   "metadata": {},
   "source": [
    "last frame 6456"
   ]
  },
  {
   "cell_type": "markdown",
   "metadata": {
    "heading_collapsed": true
   },
   "source": [
    "# Retrieve results"
   ]
  },
  {
   "cell_type": "code",
   "execution_count": 599,
   "metadata": {
    "collapsed": true,
    "hidden": true,
    "run_control": {
     "frozen": false,
     "read_only": false
    }
   },
   "outputs": [],
   "source": [
    "from amt_utils.flintstones import get_assignments\n",
    "from amt_utils.flintstones import filter_hits_by_date\n",
    "from amt_utils.flintstones import filter_hits_by_completion\n",
    "from amt_utils.flintstones import filter_hits_by_status\n",
    "from amt_utils.flintstones import get_completed_hits\n",
    "from amt_utils.flintstones import get_assignments\n",
    "from amt_utils.mturk import pickle_this"
   ]
  },
  {
   "cell_type": "code",
   "execution_count": null,
   "metadata": {
    "collapsed": true,
    "hidden": true,
    "run_control": {
     "frozen": false,
     "read_only": false
    }
   },
   "outputs": [],
   "source": [
    "import datetime\n",
    "import dateutil.parser as dt_parse"
   ]
  },
  {
   "cell_type": "code",
   "execution_count": 535,
   "metadata": {
    "collapsed": true,
    "hidden": true,
    "run_control": {
     "frozen": false,
     "read_only": false
    }
   },
   "outputs": [],
   "source": [
    "all_hits = amt_con.get_all_hits()"
   ]
  },
  {
   "cell_type": "code",
   "execution_count": 600,
   "metadata": {
    "collapsed": true,
    "hidden": true,
    "run_control": {
     "frozen": false,
     "read_only": false
    }
   },
   "outputs": [],
   "source": [
    "start_date = (2017, 8, 11)\n",
    "end_date = (2017, 8, 12)\n",
    "recent_hits = filter_hits_by_date(all_hits, start_date, end_date)\n",
    "# recent_hits = filter_hits_by_status(recent_hits)"
   ]
  },
  {
   "cell_type": "code",
   "execution_count": 601,
   "metadata": {
    "hidden": true,
    "run_control": {
     "frozen": false,
     "read_only": false
    }
   },
   "outputs": [
    {
     "data": {
      "text/plain": [
       "1632"
      ]
     },
     "execution_count": 601,
     "metadata": {},
     "output_type": "execute_result"
    }
   ],
   "source": [
    "len(recent_hits)"
   ]
  },
  {
   "cell_type": "code",
   "execution_count": 549,
   "metadata": {
    "collapsed": true,
    "hidden": true,
    "run_control": {
     "frozen": false,
     "read_only": false
    }
   },
   "outputs": [],
   "source": [
    "# prod_results_1_4 = recent_hits"
   ]
  },
  {
   "cell_type": "code",
   "execution_count": null,
   "metadata": {
    "collapsed": true,
    "hidden": true,
    "run_control": {
     "frozen": false,
     "read_only": false
    }
   },
   "outputs": [],
   "source": [
    "batch_8 = get_assignments(amt_con.connection, recent_hits)"
   ]
  },
  {
   "cell_type": "code",
   "execution_count": null,
   "metadata": {
    "collapsed": true,
    "hidden": true,
    "run_control": {
     "frozen": false,
     "read_only": false
    }
   },
   "outputs": [],
   "source": [
    "len(all_hits)"
   ]
  },
  {
   "cell_type": "code",
   "execution_count": null,
   "metadata": {
    "collapsed": true,
    "hidden": true,
    "run_control": {
     "frozen": false,
     "read_only": false
    }
   },
   "outputs": [],
   "source": [
    "th1 = all_hits[0]"
   ]
  },
  {
   "cell_type": "code",
   "execution_count": null,
   "metadata": {
    "collapsed": true,
    "hidden": true,
    "run_control": {
     "frozen": false,
     "read_only": false
    }
   },
   "outputs": [],
   "source": [
    "th1.Title"
   ]
  },
  {
   "cell_type": "code",
   "execution_count": null,
   "metadata": {
    "collapsed": true,
    "hidden": true,
    "run_control": {
     "frozen": false,
     "read_only": false
    }
   },
   "outputs": [],
   "source": [
    "subtask_hits = "
   ]
  },
  {
   "cell_type": "code",
   "execution_count": null,
   "metadata": {
    "collapsed": true,
    "hidden": true,
    "run_control": {
     "frozen": false,
     "read_only": false
    },
    "scrolled": true
   },
   "outputs": [],
   "source": [
    "len(recent_hits)"
   ]
  },
  {
   "cell_type": "code",
   "execution_count": 544,
   "metadata": {
    "collapsed": true,
    "hidden": true,
    "run_control": {
     "frozen": false,
     "read_only": false
    }
   },
   "outputs": [],
   "source": [
    "creation_times = pd.Series([dt_parse.parse(hit.CreationTime) for hit in recent_hits])"
   ]
  },
  {
   "cell_type": "code",
   "execution_count": 548,
   "metadata": {
    "hidden": true,
    "run_control": {
     "frozen": false,
     "read_only": false
    }
   },
   "outputs": [
    {
     "data": {
      "image/png": "[encoded data removed]",
      "text/plain": [
       "<matplotlib.figure.Figure at 0x10a7740d0>"
      ]
     },
     "metadata": {},
     "output_type": "display_data"
    }
   ],
   "source": [
    "_ = creation_times.hist(bins = 1)"
   ]
  },
  {
   "cell_type": "code",
   "execution_count": 554,
   "metadata": {
    "hidden": true,
    "run_control": {
     "frozen": false,
     "read_only": false
    }
   },
   "outputs": [
    {
     "data": {
      "text/plain": [
       "1632"
      ]
     },
     "execution_count": 554,
     "metadata": {},
     "output_type": "execute_result"
    }
   ],
   "source": [
    "len(recent_hits)"
   ]
  },
  {
   "cell_type": "code",
   "execution_count": 559,
   "metadata": {
    "hidden": true,
    "run_control": {
     "frozen": false,
     "read_only": false
    }
   },
   "outputs": [
    {
     "name": "stderr",
     "output_type": "stream",
     "text": [
      "100%|██████████| 20000/20000 [35:50<00:00,  8.45it/s] \n"
     ]
    }
   ],
   "source": [
    "results = get_assignments(amt_con.connection, tqdm(prod_results_1_4))"
   ]
  },
  {
   "cell_type": "code",
   "execution_count": 560,
   "metadata": {
    "hidden": true,
    "run_control": {
     "frozen": false,
     "read_only": false
    }
   },
   "outputs": [
    {
     "data": {
      "text/plain": [
       "20000"
      ]
     },
     "execution_count": 560,
     "metadata": {},
     "output_type": "execute_result"
    }
   ],
   "source": [
    "len(results)"
   ]
  },
  {
   "cell_type": "code",
   "execution_count": 562,
   "metadata": {
    "hidden": true,
    "run_control": {
     "frozen": false,
     "read_only": false
    }
   },
   "outputs": [
    {
     "ename": "TypeError",
     "evalue": "unhashable type",
     "output_type": "error",
     "traceback": [
      "\u001b[0;31m---------------------------------------------------------------------------\u001b[0m",
      "\u001b[0;31mTypeError\u001b[0m                                 Traceback (most recent call last)",
      "\u001b[0;32m<ipython-input-562-44713ff8bdb3>\u001b[0m in \u001b[0;36m<module>\u001b[0;34m()\u001b[0m\n\u001b[0;32m----> 1\u001b[0;31m \u001b[0mresults\u001b[0m\u001b[0;34m[\u001b[0m\u001b[0;34m:\u001b[0m\u001b[0;36m20\u001b[0m\u001b[0;34m]\u001b[0m\u001b[0;34m\u001b[0m\u001b[0m\n\u001b[0m",
      "\u001b[0;31mTypeError\u001b[0m: unhashable type"
     ]
    }
   ],
   "source": [
    "results"
   ]
  },
  {
   "cell_type": "code",
   "execution_count": 561,
   "metadata": {
    "collapsed": true,
    "hidden": true,
    "run_control": {
     "frozen": false,
     "read_only": false
    }
   },
   "outputs": [],
   "source": [
    "pickle_this(results, 'prod_batch_1_4.pkl')"
   ]
  },
  {
   "cell_type": "code",
   "execution_count": 552,
   "metadata": {
    "collapsed": true,
    "hidden": true,
    "run_control": {
     "frozen": false,
     "read_only": false
    }
   },
   "outputs": [],
   "source": [
    "batch_8 = unpickle_this('./pickeled_results/turker_batch_8.pkl')"
   ]
  },
  {
   "cell_type": "code",
   "execution_count": 553,
   "metadata": {
    "hidden": true,
    "run_control": {
     "frozen": false,
     "read_only": false
    }
   },
   "outputs": [
    {
     "data": {
      "text/plain": [
       "1632"
      ]
     },
     "execution_count": 553,
     "metadata": {},
     "output_type": "execute_result"
    }
   ],
   "source": [
    "len(batch_8)"
   ]
  },
  {
   "cell_type": "markdown",
   "metadata": {
    "heading_collapsed": true,
    "hidden": true
   },
   "source": [
    "## check results"
   ]
  },
  {
   "cell_type": "code",
   "execution_count": 506,
   "metadata": {
    "collapsed": true,
    "hidden": true,
    "run_control": {
     "frozen": false,
     "read_only": false
    }
   },
   "outputs": [],
   "source": [
    "main_characters =  {\"fred\",\n",
    "             \"barney\",\n",
    "              \"wilma\",\n",
    "              \"betty\",\n",
    "              \"pebbles\",\n",
    "              \"bamm bamm\",\n",
    "              \"dino\",\n",
    "              \"mr slate\",\n",
    "              \"baby puss\",\n",
    "              \"hoppy\",\n",
    "              \"empty frame\",\n",
    "              \"no characters\"}\n",
    "\n",
    "def create_result(assmt):\n",
    "    result = json.loads(assmt.answers[0][0].fields[0])\n",
    "    result['h_id'] = assmt.HITId\n",
    "    result['worker_id'] = assmt.WorkerId\n",
    "    return result\n",
    "\n",
    "\n",
    "def all_main(char_set, main_chars=main_characters):\n",
    "    return not bool(char_set.difference(main_chars))"
   ]
  },
  {
   "cell_type": "code",
   "execution_count": 513,
   "metadata": {
    "collapsed": true,
    "hidden": true,
    "run_control": {
     "frozen": false,
     "read_only": false
    }
   },
   "outputs": [],
   "source": [
    "assignments =[]\n",
    "for assignment_triple in list(results.values()):\n",
    "    assignments.extend(assignment_triple)\n",
    "\n",
    "assignment_results = [create_result(ar) for ar in assignments]\n",
    "characters_present = [{'h_id': anno['h_id'], 'w_id': anno['worker_id'], 'still_id': anno['stillID'], 'characters': set([ch['label'] for ch in json.loads(anno['characterBoxes'])])} for anno in assignment_results]"
   ]
  },
  {
   "cell_type": "code",
   "execution_count": 514,
   "metadata": {
    "hidden": true,
    "run_control": {
     "frozen": false,
     "read_only": false
    }
   },
   "outputs": [
    {
     "data": {
      "text/plain": [
       "[{'characters': {u'judge'},\n",
       "  'h_id': u'31S7M7DAGHQCUSQF0AU15OEW4LOLTV',\n",
       "  'still_id': u's_06_e_04_shot_014628_014702_40.png',\n",
       "  'w_id': u'AO235WMFCB1D9'},\n",
       " {'characters': {u'hoppy'},\n",
       "  'h_id': u'3FI30CQHVLJUFLTRDKXEGBQD8LQ6BD',\n",
       "  'still_id': u's_05_e_22_shot_037596_037670_40.png',\n",
       "  'w_id': u'AO235WMFCB1D9'},\n",
       " {'characters': {u'wilma'},\n",
       "  'h_id': u'35XW21VSVHEBFSD0BAPBVJIA22ALS6',\n",
       "  'still_id': u's_02_e_29_shot_005091_005165_40.png',\n",
       "  'w_id': u'AO235WMFCB1D9'},\n",
       " {'characters': {u'fred', u'wilma'},\n",
       "  'h_id': u'3W3RSPVVGTRRU5540FKBAK0YNZVLUM',\n",
       "  'still_id': u's_04_e_16_shot_018813_018887_40.png',\n",
       "  'w_id': u'AO235WMFCB1D9'},\n",
       " {'characters': {u'barney', u'door', u'fred'},\n",
       "  'h_id': u'3HUR21WDDVP3B86YOZKOOZ1YQY6YXD',\n",
       "  'still_id': u's_01_e_24_shot_033229_033303_40.png',\n",
       "  'w_id': u'AO235WMFCB1D9'},\n",
       " {'characters': {u'hat'},\n",
       "  'h_id': u'3SMIWMMK62575ZH34TRDJVHEL8PUWI',\n",
       "  'still_id': u's_02_e_08_shot_019539_019613_40.png',\n",
       "  'w_id': u'AO235WMFCB1D9'},\n",
       " {'characters': {u'barney', u'roof'},\n",
       "  'h_id': u'39WSF6KUV3LIBUBFN7LYYJIPWG6OEP',\n",
       "  'still_id': u's_02_e_11_shot_019591_019665_40.png',\n",
       "  'w_id': u'AO235WMFCB1D9'}]"
      ]
     },
     "execution_count": 514,
     "metadata": {},
     "output_type": "execute_result"
    }
   ],
   "source": [
    "characters_present"
   ]
  },
  {
   "cell_type": "markdown",
   "metadata": {
    "heading_collapsed": true
   },
   "source": [
    "# Interact with workers"
   ]
  },
  {
   "cell_type": "markdown",
   "metadata": {
    "heading_collapsed": true,
    "hidden": true
   },
   "source": [
    "## reject assignments and ban workers"
   ]
  },
  {
   "cell_type": "code",
   "execution_count": 37,
   "metadata": {
    "collapsed": true,
    "hidden": true,
    "run_control": {
     "frozen": false,
     "read_only": false
    }
   },
   "outputs": [],
   "source": [
    "def ban_bad_workers(mturk_connection, worker_ids):\n",
    "    for worker in worker_ids:\n",
    "        reason_for_block = \"\"\"\n",
    "        Your HITs contained many frames with characters, but they were marked 'empty frame'\n",
    "        \"\"\"\n",
    "        print('blocking ' + str(worker))\n",
    "        mturk_connection.block_worker(worker, reason_for_block)"
   ]
  },
  {
   "cell_type": "code",
   "execution_count": 38,
   "metadata": {
    "collapsed": true,
    "hidden": true,
    "run_control": {
     "frozen": false,
     "read_only": false
    }
   },
   "outputs": [],
   "source": [
    "workers_to_ban = unpickle_this('workers_to_ban_prod_1_4.pkl')"
   ]
  },
  {
   "cell_type": "code",
   "execution_count": 39,
   "metadata": {
    "hidden": true,
    "run_control": {
     "frozen": false,
     "read_only": false
    }
   },
   "outputs": [
    {
     "data": {
      "text/plain": [
       "{u'A13ISH3PAGHO0A',\n",
       " u'A15DOG6AXQ7LGY',\n",
       " u'A1CF1W8CP0DHB0',\n",
       " u'A1IOMFFEKCWOIT',\n",
       " u'A1QP6651C4Q8NS',\n",
       " u'A1RULXRXR2XF6M',\n",
       " u'A273GB71FE8RIV',\n",
       " u'A2CXEAMWU2SFV3',\n",
       " u'A2L97S8Z5FZK5N',\n",
       " u'A2NJTYYY37DNO',\n",
       " u'A2PU4YNWITAQVL',\n",
       " u'A2X7BE2FSPUKCK',\n",
       " u'A3R6KO03P9QLNO',\n",
       " u'A3UPV16IECELHV',\n",
       " u'A9ALF1SODWQE5'}"
      ]
     },
     "execution_count": 39,
     "metadata": {},
     "output_type": "execute_result"
    }
   ],
   "source": [
    "workers_to_ban"
   ]
  },
  {
   "cell_type": "code",
   "execution_count": 40,
   "metadata": {
    "hidden": true,
    "run_control": {
     "frozen": false,
     "read_only": false
    }
   },
   "outputs": [
    {
     "name": "stdout",
     "output_type": "stream",
     "text": [
      "blocking A2PU4YNWITAQVL\n",
      "blocking A273GB71FE8RIV\n",
      "blocking A3R6KO03P9QLNO\n",
      "blocking A2X7BE2FSPUKCK\n",
      "blocking A1QP6651C4Q8NS\n",
      "blocking A2CXEAMWU2SFV3\n",
      "blocking A2NJTYYY37DNO\n",
      "blocking A1CF1W8CP0DHB0\n",
      "blocking A3UPV16IECELHV\n",
      "blocking A2L97S8Z5FZK5N\n",
      "blocking A1IOMFFEKCWOIT\n",
      "blocking A15DOG6AXQ7LGY\n",
      "blocking A9ALF1SODWQE5\n",
      "blocking A1RULXRXR2XF6M\n",
      "blocking A13ISH3PAGHO0A\n"
     ]
    }
   ],
   "source": [
    "ban_bad_workers(amt_con.connection, list(workers_to_ban))"
   ]
  },
  {
   "cell_type": "code",
   "execution_count": 46,
   "metadata": {
    "collapsed": true,
    "hidden": true,
    "run_control": {
     "frozen": false,
     "read_only": false
    }
   },
   "outputs": [],
   "source": [
    "to_reject = unpickle_this('assignments_to_reject_prod_1_4.pkl')"
   ]
  },
  {
   "cell_type": "code",
   "execution_count": 48,
   "metadata": {
    "hidden": true,
    "run_control": {
     "frozen": false,
     "read_only": false
    }
   },
   "outputs": [
    {
     "data": {
      "text/plain": [
       "378.16"
      ]
     },
     "execution_count": 48,
     "metadata": {},
     "output_type": "execute_result"
    }
   ],
   "source": [
    "len(to_reject) * 0.04"
   ]
  },
  {
   "cell_type": "code",
   "execution_count": 43,
   "metadata": {
    "collapsed": true,
    "hidden": true,
    "run_control": {
     "frozen": false,
     "read_only": false
    }
   },
   "outputs": [],
   "source": [
    "def reject_assignments(mturk_connection, assignments_to_reject):\n",
    "    feedback_message = \"\"\"\n",
    "    Your HITs contained many frames with characters, but they were marked 'empty frame'\n",
    "    \"\"\"\n",
    "    reject_count = len(assignments_to_reject)\n",
    "    for assignment_id in tqdm(assignments_to_reject):\n",
    "        try:\n",
    "            mturk_connection.reject_assignment(assignment_id, feedback_message)\n",
    "        except boto.mturk.connection.MTurkRequestError:\n",
    "            print('assignment ' + str(assignment_id) + ' already accepted or rejected')\n",
    "\n",
    "    return reject_count"
   ]
  },
  {
   "cell_type": "code",
   "execution_count": 45,
   "metadata": {
    "collapsed": true,
    "hidden": true,
    "run_control": {
     "frozen": false,
     "read_only": false
    }
   },
   "outputs": [],
   "source": [
    "# reject_assignments(amt_con.connection, list(to_reject))"
   ]
  },
  {
   "cell_type": "code",
   "execution_count": null,
   "metadata": {
    "collapsed": true,
    "hidden": true,
    "run_control": {
     "frozen": false,
     "read_only": false
    }
   },
   "outputs": [],
   "source": []
  },
  {
   "cell_type": "code",
   "execution_count": null,
   "metadata": {
    "collapsed": true,
    "hidden": true,
    "run_control": {
     "frozen": false,
     "read_only": false
    }
   },
   "outputs": [],
   "source": []
  },
  {
   "cell_type": "markdown",
   "metadata": {
    "heading_collapsed": true,
    "hidden": true
   },
   "source": [
    "## pay bonuses"
   ]
  },
  {
   "cell_type": "code",
   "execution_count": null,
   "metadata": {
    "collapsed": true,
    "hidden": true,
    "run_control": {
     "frozen": false,
     "read_only": false
    }
   },
   "outputs": [],
   "source": [
    "subject = \"More  HITs are available\"\n",
    "message = \"\"\"\n",
    "Hello, \n",
    "\n",
    "\"\"\""
   ]
  },
  {
   "cell_type": "code",
   "execution_count": null,
   "metadata": {
    "collapsed": true,
    "hidden": true,
    "run_control": {
     "frozen": false,
     "read_only": false
    }
   },
   "outputs": [],
   "source": [
    "# _ = mturk.notify_workers(good_workers[:20], subject, message)"
   ]
  },
  {
   "cell_type": "code",
   "execution_count": 455,
   "metadata": {
    "collapsed": true,
    "hidden": true,
    "run_control": {
     "frozen": false,
     "read_only": false
    }
   },
   "outputs": [],
   "source": [
    "bonuses = unpickle_this('bonuses_to_pay_3.pkl')"
   ]
  },
  {
   "cell_type": "code",
   "execution_count": 458,
   "metadata": {
    "collapsed": true,
    "hidden": true,
    "run_control": {
     "frozen": false,
     "read_only": false
    }
   },
   "outputs": [],
   "source": [
    "def pay_bonuses(bonuses_to_pay):\n",
    "    total_payed = 0\n",
    "    bonus_reason_template = 'For Flinstones character labels written.'\n",
    "    for aid, vals in tqdm(bonuses_to_pay.items()):\n",
    "        n_chars = vals['count']\n",
    "        wid = vals['worker_id']\n",
    "        bonus_ammount = boto.mturk.price.Price(0.01 * n_chars)\n",
    "        total_payed += bonus_ammount.amount\n",
    "        bonus_reason = bonus_reason_template\n",
    "        amt_con.connection.grant_bonus(wid, aid, bonus_ammount, bonus_reason)\n",
    "    return total_payed"
   ]
  },
  {
   "cell_type": "code",
   "execution_count": 460,
   "metadata": {
    "collapsed": true,
    "hidden": true,
    "run_control": {
     "frozen": false,
     "read_only": false
    },
    "scrolled": true
   },
   "outputs": [],
   "source": [
    "# pay_bonuses(bonuses)"
   ]
  },
  {
   "cell_type": "code",
   "execution_count": null,
   "metadata": {
    "collapsed": true,
    "hidden": true,
    "run_control": {
     "frozen": false,
     "read_only": false
    }
   },
   "outputs": [],
   "source": []
  },
  {
   "cell_type": "code",
   "execution_count": null,
   "metadata": {
    "collapsed": true,
    "hidden": true,
    "run_control": {
     "frozen": false,
     "read_only": false
    }
   },
   "outputs": [],
   "source": []
  },
  {
   "cell_type": "markdown",
   "metadata": {
    "heading_collapsed": true
   },
   "source": [
    "# Accepting and deleting HITs"
   ]
  },
  {
   "cell_type": "markdown",
   "metadata": {
    "hidden": true
   },
   "source": [
    "Uncomment only when ready to accept or delete hits"
   ]
  },
  {
   "cell_type": "markdown",
   "metadata": {
    "hidden": true
   },
   "source": [
    "reject assignments carefully"
   ]
  },
  {
   "cell_type": "code",
   "execution_count": 8,
   "metadata": {
    "collapsed": true,
    "hidden": true,
    "run_control": {
     "frozen": false,
     "read_only": false
    }
   },
   "outputs": [],
   "source": [
    "accept_results = unpickle_this('pickeled_results/prod_batch_1_4.pkl')"
   ]
  },
  {
   "cell_type": "code",
   "execution_count": 9,
   "metadata": {
    "hidden": true,
    "run_control": {
     "frozen": false,
     "read_only": false
    }
   },
   "outputs": [
    {
     "data": {
      "text/plain": [
       "20000"
      ]
     },
     "execution_count": 9,
     "metadata": {},
     "output_type": "execute_result"
    }
   ],
   "source": [
    "len(accept_results)"
   ]
  },
  {
   "cell_type": "code",
   "execution_count": 10,
   "metadata": {
    "hidden": true,
    "run_control": {
     "frozen": false,
     "read_only": false
    }
   },
   "outputs": [
    {
     "data": {
      "text/plain": [
       "59836"
      ]
     },
     "execution_count": 10,
     "metadata": {},
     "output_type": "execute_result"
    }
   ],
   "source": [
    "assignments =[]\n",
    "for assignment_triple in list(accept_results.values()):\n",
    "    assignments.extend(assignment_triple)\n",
    "\n",
    "len(assignments)"
   ]
  },
  {
   "cell_type": "code",
   "execution_count": 35,
   "metadata": {
    "collapsed": true,
    "hidden": true,
    "run_control": {
     "frozen": false,
     "read_only": false
    }
   },
   "outputs": [],
   "source": [
    "to_reject = unpickle_this('./assignments_to_reject_prod_1_4.pkl')"
   ]
  },
  {
   "cell_type": "code",
   "execution_count": 36,
   "metadata": {
    "hidden": true,
    "run_control": {
     "frozen": false,
     "read_only": false
    },
    "scrolled": true
   },
   "outputs": [
    {
     "data": {
      "text/plain": [
       "9454"
      ]
     },
     "execution_count": 36,
     "metadata": {},
     "output_type": "execute_result"
    }
   ],
   "source": [
    "len(to_reject)"
   ]
  },
  {
   "cell_type": "code",
   "execution_count": 12,
   "metadata": {
    "collapsed": true,
    "hidden": true,
    "run_control": {
     "frozen": false,
     "read_only": false
    }
   },
   "outputs": [],
   "source": [
    "assignments_to_accept = [asgmt for asgmt in assignments if asgmt.AssignmentId not in to_reject]"
   ]
  },
  {
   "cell_type": "code",
   "execution_count": 13,
   "metadata": {
    "hidden": true,
    "run_control": {
     "frozen": false,
     "read_only": false
    }
   },
   "outputs": [
    {
     "data": {
      "text/plain": [
       "59836"
      ]
     },
     "execution_count": 13,
     "metadata": {},
     "output_type": "execute_result"
    }
   ],
   "source": [
    "len(assignments_to_accept)"
   ]
  },
  {
   "cell_type": "code",
   "execution_count": 22,
   "metadata": {
    "hidden": true,
    "run_control": {
     "frozen": false,
     "read_only": false
    }
   },
   "outputs": [
    {
     "name": "stderr",
     "output_type": "stream",
     "text": [
      "100%|██████████| 59836/59836 [2:27:34<00:00,  4.99it/s]  \n"
     ]
    }
   ],
   "source": [
    "e_count = 0\n",
    "for assignment in tqdm(assignments_to_accept):\n",
    "    try:\n",
    "        amt_con.approve_assignment(assignment)\n",
    "    except boto.mturk.connection.MTurkRequestError as e:\n",
    "        e_count += 1"
   ]
  },
  {
   "cell_type": "code",
   "execution_count": 23,
   "metadata": {
    "hidden": true,
    "run_control": {
     "frozen": false,
     "read_only": false
    }
   },
   "outputs": [
    {
     "data": {
      "text/plain": [
       "41804"
      ]
     },
     "execution_count": 23,
     "metadata": {},
     "output_type": "execute_result"
    }
   ],
   "source": [
    "e_count"
   ]
  },
  {
   "cell_type": "code",
   "execution_count": 2,
   "metadata": {
    "hidden": true,
    "run_control": {
     "frozen": false,
     "read_only": false
    }
   },
   "outputs": [
    {
     "data": {
      "text/plain": [
       "41772"
      ]
     },
     "execution_count": 2,
     "metadata": {},
     "output_type": "execute_result"
    }
   ],
   "source": [
    "41772"
   ]
  },
  {
   "cell_type": "code",
   "execution_count": null,
   "metadata": {
    "collapsed": true,
    "hidden": true,
    "run_control": {
     "frozen": false,
     "read_only": false
    }
   },
   "outputs": [],
   "source": [
    "print(e_count)"
   ]
  },
  {
   "cell_type": "code",
   "execution_count": null,
   "metadata": {
    "collapsed": true,
    "hidden": true,
    "run_control": {
     "frozen": false,
     "read_only": false
    }
   },
   "outputs": [],
   "source": [
    "# _ = [amt_con.disable_hit(hit) for hit in hits_today]"
   ]
  },
  {
   "cell_type": "code",
   "execution_count": null,
   "metadata": {
    "collapsed": true,
    "hidden": true,
    "run_control": {
     "frozen": false,
     "read_only": false
    },
    "scrolled": false
   },
   "outputs": [],
   "source": [
    "# number_rejected_assignments, number_rejected_workers = amt_util.reject_assignments(mturk, workers_to_ban, combined_consensus_with_workerid_df)\n",
    "# print 'rejecting ' + str(number_rejected_assignments) + ' assignments' + ' from ' + str(number_rejected_workers) + ' workers'"
   ]
  },
  {
   "cell_type": "code",
   "execution_count": 88,
   "metadata": {
    "hidden": true,
    "run_control": {
     "frozen": false,
     "read_only": false
    }
   },
   "outputs": [
    {
     "data": {
      "text/plain": [
       "$10,000.00"
      ]
     },
     "execution_count": 88,
     "metadata": {},
     "output_type": "execute_result"
    }
   ],
   "source": [
    "amt_con.get_account_balance()"
   ]
  },
  {
   "cell_type": "code",
   "execution_count": 179,
   "metadata": {
    "collapsed": true,
    "hidden": true,
    "run_control": {
     "frozen": false,
     "read_only": false
    }
   },
   "outputs": [],
   "source": [
    "amt_con.delete_all_hits()"
   ]
  },
  {
   "cell_type": "code",
   "execution_count": null,
   "metadata": {
    "collapsed": true,
    "hidden": true,
    "run_control": {
     "frozen": false,
     "read_only": false
    }
   },
   "outputs": [],
   "source": []
  }
 ],
 "metadata": {
  "kernelspec": {
   "display_name": "Python 2",
   "language": "python",
   "name": "python2"
  },
  "language_info": {
   "codemirror_mode": {
    "name": "ipython",
    "version": 2
   },
   "file_extension": ".py",
   "mimetype": "text/x-python",
   "name": "python",
   "nbconvert_exporter": "python",
   "pygments_lexer": "ipython2",
   "version": "2.7.13"
  }
 },
 "nbformat": 4,
 "nbformat_minor": 1
}
